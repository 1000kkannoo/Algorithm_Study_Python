{
 "cells": [
  {
   "cell_type": "code",
   "execution_count": 8,
   "id": "e7bfec7a",
   "metadata": {},
   "outputs": [
    {
     "name": "stdout",
     "output_type": "stream",
     "text": [
      "2735 1\n",
      "1\n"
     ]
    }
   ],
   "source": [
    "n, k = map(int,input().split())\n",
    "num = []\n",
    "for i in range(1, n + 1):\n",
    "    if n % i == 0:\n",
    "        num.append(i)\n",
    "if len(num) >= k:\n",
    "    print(num[k - 1])\n",
    "else:\n",
    "    print(0)"
   ]
  }
 ],
 "metadata": {
  "kernelspec": {
   "display_name": "Python 3 (ipykernel)",
   "language": "python",
   "name": "python3"
  },
  "language_info": {
   "codemirror_mode": {
    "name": "ipython",
    "version": 3
   },
   "file_extension": ".py",
   "mimetype": "text/x-python",
   "name": "python",
   "nbconvert_exporter": "python",
   "pygments_lexer": "ipython3",
   "version": "3.9.13"
  }
 },
 "nbformat": 4,
 "nbformat_minor": 5
}
