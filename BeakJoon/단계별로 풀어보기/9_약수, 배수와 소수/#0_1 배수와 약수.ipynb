{
 "cells": [
  {
   "cell_type": "code",
   "execution_count": 3,
   "id": "99379a9c",
   "metadata": {},
   "outputs": [
    {
     "name": "stdout",
     "output_type": "stream",
     "text": [
      "16 8\n",
      "multiple\n",
      "0 0\n"
     ]
    }
   ],
   "source": [
    "while True:\n",
    "    try:\n",
    "        a, b = map(int,input().split())\n",
    "    \n",
    "        if a < b:\n",
    "            if b % a == 0:\n",
    "                print(\"factor\")\n",
    "            else:\n",
    "                print(\"neither\")\n",
    "        else:\n",
    "            if a % b == 0:\n",
    "                print(\"multiple\")\n",
    "            else:\n",
    "                print(\"neither\")\n",
    "    except:\n",
    "        break;\n",
    "            \n",
    "    "
   ]
  }
 ],
 "metadata": {
  "kernelspec": {
   "display_name": "Python 3 (ipykernel)",
   "language": "python",
   "name": "python3"
  },
  "language_info": {
   "codemirror_mode": {
    "name": "ipython",
    "version": 3
   },
   "file_extension": ".py",
   "mimetype": "text/x-python",
   "name": "python",
   "nbconvert_exporter": "python",
   "pygments_lexer": "ipython3",
   "version": "3.9.13"
  }
 },
 "nbformat": 4,
 "nbformat_minor": 5
}
