{
 "cells": [
  {
   "cell_type": "code",
   "execution_count": 3,
   "id": "d35e9488",
   "metadata": {},
   "outputs": [
    {
     "name": "stdout",
     "output_type": "stream",
     "text": [
      "60\n",
      "100\n",
      "620\n",
      "61\n"
     ]
    }
   ],
   "source": [
    "M = int(input())\n",
    "N = int(input())\n",
    "sums = []\n",
    "for i in range(M, N + 1):\n",
    "    num = []\n",
    "    for j in range(1, i + 1):\n",
    "        if i % j == 0:\n",
    "            num.append(j)\n",
    "            \n",
    "    if len(num) == 2:\n",
    "        sums.append(i)\n",
    "\n",
    "if len(sums) == 0:\n",
    "    print(-1)\n",
    "else:\n",
    "    print(sum(sums))\n",
    "    print(min(sums))"
   ]
  },
  {
   "cell_type": "code",
   "execution_count": null,
   "id": "aa7796d1",
   "metadata": {},
   "outputs": [],
   "source": []
  }
 ],
 "metadata": {
  "kernelspec": {
   "display_name": "Python 3 (ipykernel)",
   "language": "python",
   "name": "python3"
  },
  "language_info": {
   "codemirror_mode": {
    "name": "ipython",
    "version": 3
   },
   "file_extension": ".py",
   "mimetype": "text/x-python",
   "name": "python",
   "nbconvert_exporter": "python",
   "pygments_lexer": "ipython3",
   "version": "3.9.13"
  }
 },
 "nbformat": 4,
 "nbformat_minor": 5
}
