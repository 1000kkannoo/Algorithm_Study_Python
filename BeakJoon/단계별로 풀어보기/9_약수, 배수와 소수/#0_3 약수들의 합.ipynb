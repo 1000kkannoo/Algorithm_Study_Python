{
 "cells": [
  {
   "cell_type": "code",
   "execution_count": 30,
   "id": "0a9642d8",
   "metadata": {},
   "outputs": [
    {
     "name": "stdout",
     "output_type": "stream",
     "text": [
      "6\n",
      "6 = 1 + 2 + 3\n",
      "12\n",
      "12 is NOT perfect.\n",
      "-1\n"
     ]
    }
   ],
   "source": [
    "while True:\n",
    "    try:\n",
    "        n = int(input())\n",
    "        \n",
    "        if n == -1:\n",
    "            break;\n",
    "            \n",
    "        num = []\n",
    "        \n",
    "        for i in range(1, n):\n",
    "            if(n % i == 0):\n",
    "                num.append(i)\n",
    "                \n",
    "        if n == sum(num):\n",
    "            print(f\"{n} = \", end = \"\")\n",
    "            print(*num, sep = \" + \")\n",
    "        else:\n",
    "            print(f\"{n} \", end = \"\")\n",
    "            print(\"is NOT perfect.\")\n",
    "    except:\n",
    "        break;"
   ]
  }
 ],
 "metadata": {
  "kernelspec": {
   "display_name": "Python 3 (ipykernel)",
   "language": "python",
   "name": "python3"
  },
  "language_info": {
   "codemirror_mode": {
    "name": "ipython",
    "version": 3
   },
   "file_extension": ".py",
   "mimetype": "text/x-python",
   "name": "python",
   "nbconvert_exporter": "python",
   "pygments_lexer": "ipython3",
   "version": "3.9.13"
  }
 },
 "nbformat": 4,
 "nbformat_minor": 5
}
