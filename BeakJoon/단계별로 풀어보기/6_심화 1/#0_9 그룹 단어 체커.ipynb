{
 "cells": [
  {
   "cell_type": "code",
   "execution_count": 31,
   "id": "1db393cc",
   "metadata": {},
   "outputs": [
    {
     "name": "stdout",
     "output_type": "stream",
     "text": [
      "1\n",
      "aabbbccb\n",
      "0\n"
     ]
    }
   ],
   "source": [
    "N = int(input())\n",
    "cnt = N\n",
    "\n",
    "for i in range(N):\n",
    "    word = input()\n",
    "    for j in range(0, len(word)-1):\n",
    "        # 먼저, 하나의 인덱스와 다음 인덱스의 값이 같으면, 해당 구문을 건너뜀\n",
    "        if word[j] == word[j+1]:\n",
    "            pass\n",
    "        # 같지 않다면, 이미 해당 인덱스값과 다음 인덱스 값이 다른 것이 증명되었기에 이후 인덱스에 \n",
    "        # 해당 인덱스값이 하나라도 있다면 그룹 단어가 아님이 증명됨\n",
    "        elif word[j] in word[j+1:]:\n",
    "            cnt -= 1\n",
    "            break\n",
    "\n",
    "print(cnt)"
   ]
  }
 ],
 "metadata": {
  "kernelspec": {
   "display_name": "Python 3 (ipykernel)",
   "language": "python",
   "name": "python3"
  },
  "language_info": {
   "codemirror_mode": {
    "name": "ipython",
    "version": 3
   },
   "file_extension": ".py",
   "mimetype": "text/x-python",
   "name": "python",
   "nbconvert_exporter": "python",
   "pygments_lexer": "ipython3",
   "version": "3.9.13"
  }
 },
 "nbformat": 4,
 "nbformat_minor": 5
}
