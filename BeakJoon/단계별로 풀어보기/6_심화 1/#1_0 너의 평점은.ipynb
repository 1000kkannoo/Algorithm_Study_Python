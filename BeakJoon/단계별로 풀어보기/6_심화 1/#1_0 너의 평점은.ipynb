{
 "cells": [
  {
   "cell_type": "code",
   "execution_count": 20,
   "id": "6854b76e",
   "metadata": {},
   "outputs": [
    {
     "name": "stdout",
     "output_type": "stream",
     "text": [
      "ObjectOrientedProgramming1 3.0 A+\n",
      "ObjectOrientedProgramming1 3.0 A+\n",
      "ObjectOrientedProgramming1 3.0 A0\n",
      "ObjectOrientedProgramming1 3.0 A+\n",
      "ObjectOrientedProgramming1 3.0 A+\n",
      "ObjectOrientedProgramming1 3.0 B0\n",
      "ObjectOrientedProgramming1 3.0 A0\n",
      "ObjectOrientedProgramming1 3.0 B0\n",
      "ObjectOrientedProgramming1 3.0 B0\n",
      "ObjectOrientedProgramming1 3.0 C+\n",
      "ObjectOrientedProgramming1 3.0 B0\n",
      "ObjectOrientedProgramming1 4.0 A+\n",
      "ObjectOrientedProgramming1 3.0 B+\n",
      "ObjectOrientedProgramming1 3.0 C0\n",
      "ObjectOrientedProgramming1 3.0 D+\n",
      "ObjectOrientedProgramming1 3.0 C+\n",
      "ObjectOrientedProgramming1 3.0 B0\n",
      "ObjectOrientedProgramming1 3.0 B+\n",
      "ObjectOrientedProgramming1 3.0 D0\n",
      "ObjectOrientedProgramming1 4.0 P\n",
      "3.2844827586206895\n"
     ]
    }
   ],
   "source": [
    "subjectList = []\n",
    "numList = []\n",
    "scoreList = []\n",
    "\n",
    "finalNum = 0.0\n",
    "finalScore = 0.0\n",
    "\n",
    "myAvg = 0.0\n",
    "\n",
    "numSum = 0.0\n",
    "\n",
    "for _ in range(20):\n",
    "    sub,num,score = map(str,input().split())\n",
    "    if score == 'P':\n",
    "        pass\n",
    "    else:\n",
    "        subjectList.append(sub)\n",
    "        numList.append(float(num))\n",
    "        \n",
    "        if score == 'A+':\n",
    "            scoreList.append(4.5)\n",
    "        elif score == 'A0':\n",
    "            scoreList.append(4.0)\n",
    "        elif score == 'B+':\n",
    "            scoreList.append(3.5)\n",
    "        elif score == 'B0':\n",
    "            scoreList.append(3.0)\n",
    "        elif score == 'C+':\n",
    "            scoreList.append(2.5)\n",
    "        elif score == 'C0':\n",
    "            scoreList.append(2.0)\n",
    "        elif score == 'D+':\n",
    "            scoreList.append(1.5)\n",
    "        elif score == 'D0':\n",
    "            scoreList.append(1.0)\n",
    "        elif score == 'F':\n",
    "            scoreList.append(0.0)\n",
    "            \n",
    "for i in range(len(numList)):\n",
    "    myAvg += numList[i] * scoreList[i]\n",
    "    numSum += numList[i]\n",
    "\n",
    "print(myAvg / numSum)\n",
    "    "
   ]
  }
 ],
 "metadata": {
  "kernelspec": {
   "display_name": "Python 3 (ipykernel)",
   "language": "python",
   "name": "python3"
  },
  "language_info": {
   "codemirror_mode": {
    "name": "ipython",
    "version": 3
   },
   "file_extension": ".py",
   "mimetype": "text/x-python",
   "name": "python",
   "nbconvert_exporter": "python",
   "pygments_lexer": "ipython3",
   "version": "3.9.13"
  }
 },
 "nbformat": 4,
 "nbformat_minor": 5
}
