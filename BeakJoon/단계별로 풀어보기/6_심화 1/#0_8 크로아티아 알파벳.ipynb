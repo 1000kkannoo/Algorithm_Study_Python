{
 "cells": [
  {
   "cell_type": "code",
   "execution_count": 22,
   "id": "a7925f76",
   "metadata": {
    "scrolled": true
   },
   "outputs": [
    {
     "name": "stdout",
     "output_type": "stream",
     "text": [
      "ddz=z=\n",
      "3\n"
     ]
    }
   ],
   "source": [
    "word = input()\n",
    "croatian_alphabets = ['c=', 'c-', 'dz=', 'd-', 'lj', 'nj', 's=', 'z=']\n",
    "cnt = 0\n",
    "\n",
    "for alphabet in croatian_alphabets:\n",
    "    cnt -= word.count(alphabet)\n",
    "\n",
    "print(len(word) + cnt)"
   ]
  }
 ],
 "metadata": {
  "kernelspec": {
   "display_name": "Python 3 (ipykernel)",
   "language": "python",
   "name": "python3"
  },
  "language_info": {
   "codemirror_mode": {
    "name": "ipython",
    "version": 3
   },
   "file_extension": ".py",
   "mimetype": "text/x-python",
   "name": "python",
   "nbconvert_exporter": "python",
   "pygments_lexer": "ipython3",
   "version": "3.9.13"
  }
 },
 "nbformat": 4,
 "nbformat_minor": 5
}
