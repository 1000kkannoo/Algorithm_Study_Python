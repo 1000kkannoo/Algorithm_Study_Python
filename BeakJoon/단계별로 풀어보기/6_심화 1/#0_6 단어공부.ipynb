{
 "cells": [
  {
   "cell_type": "code",
   "execution_count": 28,
   "id": "3e57ec0e",
   "metadata": {},
   "outputs": [
    {
     "name": "stdout",
     "output_type": "stream",
     "text": [
      "z\n",
      "Z\n"
     ]
    }
   ],
   "source": [
    "word = input().upper()\n",
    "wordList = list(set(word))\n",
    "cntList = []\n",
    "\n",
    "for value in wordList:\n",
    "    cnt = word.count(value)\n",
    "    cntList.append(cnt)\n",
    "\n",
    "if cntList.count(max(cntList)) >= 2 :\n",
    "    print(\"?\")\n",
    "else:\n",
    "    print(wordList[cntList.index(max(cntList))])"
   ]
  }
 ],
 "metadata": {
  "kernelspec": {
   "display_name": "Python 3 (ipykernel)",
   "language": "python",
   "name": "python3"
  },
  "language_info": {
   "codemirror_mode": {
    "name": "ipython",
    "version": 3
   },
   "file_extension": ".py",
   "mimetype": "text/x-python",
   "name": "python",
   "nbconvert_exporter": "python",
   "pygments_lexer": "ipython3",
   "version": "3.9.13"
  }
 },
 "nbformat": 4,
 "nbformat_minor": 5
}
