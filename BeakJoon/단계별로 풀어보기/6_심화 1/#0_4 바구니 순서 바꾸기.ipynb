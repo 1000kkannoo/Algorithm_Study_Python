{
 "cells": [
  {
   "cell_type": "code",
   "execution_count": 14,
   "id": "cbd01203",
   "metadata": {},
   "outputs": [
    {
     "name": "stdout",
     "output_type": "stream",
     "text": [
      "10 5\n",
      "1 6 4\n",
      "3 9 8\n",
      "2 10 5\n",
      "1 3 3\n",
      "2 6 2\n",
      "1 4 6 2 3 7 10 5 8 9\n"
     ]
    }
   ],
   "source": [
    "a,b = map(int,input().split())\n",
    "basket = list(range(1, a + 1))\n",
    "\n",
    "for _ in range(b):\n",
    "    i, j, k = map(int,input().split())\n",
    "    basket[i - 1 : j] = basket[k - 1 : j] + basket[i - 1 : k - 1]\n",
    "print(*basket)"
   ]
  }
 ],
 "metadata": {
  "kernelspec": {
   "display_name": "Python 3 (ipykernel)",
   "language": "python",
   "name": "python3"
  },
  "language_info": {
   "codemirror_mode": {
    "name": "ipython",
    "version": 3
   },
   "file_extension": ".py",
   "mimetype": "text/x-python",
   "name": "python",
   "nbconvert_exporter": "python",
   "pygments_lexer": "ipython3",
   "version": "3.9.13"
  }
 },
 "nbformat": 4,
 "nbformat_minor": 5
}
