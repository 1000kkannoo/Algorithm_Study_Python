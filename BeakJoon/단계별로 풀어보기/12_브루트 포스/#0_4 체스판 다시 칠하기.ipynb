{
 "cells": [
  {
   "cell_type": "code",
   "execution_count": 8,
   "id": "f7656e44",
   "metadata": {},
   "outputs": [
    {
     "name": "stdout",
     "output_type": "stream",
     "text": [
      "10 13\n",
      "BBBBBBBBWBWBW\n",
      "BBBBBBBBBWBWB\n",
      "BBBBBBBBWBWBW\n",
      "BBBBBBBBBWBWB\n",
      "BBBBBBBBWBWBW\n",
      "BBBBBBBBBWBWB\n",
      "BBBBBBBBWBWBW\n",
      "BBBBBBBBBWBWB\n",
      "WWWWWWWWWWBWB\n",
      "WWWWWWWWWWBWB\n",
      "68\n"
     ]
    }
   ],
   "source": [
    "N, M = map(int,input().split())\n",
    "chase_board = []\n",
    "cnt = 0\n",
    "for _ in range(N):\n",
    "    chase_board.append(list(map(str,input())))\n",
    "\n",
    "for i in range(N):\n",
    "    for j in range(M - 1):\n",
    "        if chase_board[i][j] == 'W' and chase_board[i][j + 1] == 'W':\n",
    "            chase_board[i][j + 1] = 'B'\n",
    "            cnt +=1\n",
    "        if chase_board[i][j] == 'B' and chase_board[i][j + 1] == 'B':\n",
    "            chase_board[i][j + 1] = 'W'\n",
    "            cnt +=1\n",
    "\n",
    "print(cnt)"
   ]
  }
 ],
 "metadata": {
  "kernelspec": {
   "display_name": "Python 3 (ipykernel)",
   "language": "python",
   "name": "python3"
  },
  "language_info": {
   "codemirror_mode": {
    "name": "ipython",
    "version": 3
   },
   "file_extension": ".py",
   "mimetype": "text/x-python",
   "name": "python",
   "nbconvert_exporter": "python",
   "pygments_lexer": "ipython3",
   "version": "3.9.13"
  }
 },
 "nbformat": 4,
 "nbformat_minor": 5
}
