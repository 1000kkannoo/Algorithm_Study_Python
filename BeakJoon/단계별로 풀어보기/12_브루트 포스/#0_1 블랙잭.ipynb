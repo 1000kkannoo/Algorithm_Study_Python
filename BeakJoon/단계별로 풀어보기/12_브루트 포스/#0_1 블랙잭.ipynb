{
 "cells": [
  {
   "cell_type": "code",
   "execution_count": 16,
   "id": "621a40c9",
   "metadata": {},
   "outputs": [
    {
     "name": "stdout",
     "output_type": "stream",
     "text": [
      "10 500\n",
      "93 181 245 214 315 36 185 138 216 295\n",
      "497\n"
     ]
    }
   ],
   "source": [
    "N, M = map(int,input().split())\n",
    "num_list = list(map(int,input().split()))\n",
    "sum_list = []\n",
    "for i in range(N):\n",
    "    for j in range(i + 1, N):\n",
    "            for k in range(j + 1, N):\n",
    "                value = num_list[i] + num_list[j] + num_list[k]\n",
    "                if value <= M:\n",
    "                    sum_list.append(value)\n",
    "                else:\n",
    "                    continue\n",
    "print(max(sum_list))"
   ]
  }
 ],
 "metadata": {
  "kernelspec": {
   "display_name": "Python 3 (ipykernel)",
   "language": "python",
   "name": "python3"
  },
  "language_info": {
   "codemirror_mode": {
    "name": "ipython",
    "version": 3
   },
   "file_extension": ".py",
   "mimetype": "text/x-python",
   "name": "python",
   "nbconvert_exporter": "python",
   "pygments_lexer": "ipython3",
   "version": "3.9.13"
  }
 },
 "nbformat": 4,
 "nbformat_minor": 5
}
