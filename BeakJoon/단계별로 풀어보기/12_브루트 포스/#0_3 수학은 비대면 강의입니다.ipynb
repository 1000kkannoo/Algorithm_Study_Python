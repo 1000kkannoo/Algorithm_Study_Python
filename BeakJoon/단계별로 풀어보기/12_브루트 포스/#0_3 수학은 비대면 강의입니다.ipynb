{
 "cells": [
  {
   "cell_type": "code",
   "execution_count": 11,
   "id": "2c4e663b",
   "metadata": {},
   "outputs": [
    {
     "name": "stdout",
     "output_type": "stream",
     "text": [
      "1 3 -1 4 1 7\n",
      "2 -1\n"
     ]
    }
   ],
   "source": [
    "'''\n",
    "a,b,c,d,e,f = map(int,input().split())\n",
    "\n",
    "for i in range(-999, 1000):\n",
    "    for j in range(-999, 1000):\n",
    "        if a * i + b * j == c and d * i + e * j == f:\n",
    "            print(i,j)\n",
    "'''\n",
    "# 가감법 사용\n",
    "a,b,c,d,e,f = map(int,input().split())\n",
    "\n",
    "x = (c*e - b*f) // (a*e - b*d)\n",
    "y = (c*d - a*f) // (b*d - a*e)\n",
    "\n",
    "print(x,y)"
   ]
  }
 ],
 "metadata": {
  "kernelspec": {
   "display_name": "Python 3 (ipykernel)",
   "language": "python",
   "name": "python3"
  },
  "language_info": {
   "codemirror_mode": {
    "name": "ipython",
    "version": 3
   },
   "file_extension": ".py",
   "mimetype": "text/x-python",
   "name": "python",
   "nbconvert_exporter": "python",
   "pygments_lexer": "ipython3",
   "version": "3.9.13"
  }
 },
 "nbformat": 4,
 "nbformat_minor": 5
}
