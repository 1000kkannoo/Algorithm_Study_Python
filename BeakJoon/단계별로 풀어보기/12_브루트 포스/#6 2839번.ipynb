{
 "cells": [
  {
   "cell_type": "code",
   "execution_count": 31,
   "id": "957871d5",
   "metadata": {},
   "outputs": [
    {
     "name": "stdout",
     "output_type": "stream",
     "text": [
      "11\n",
      "3\n"
     ]
    }
   ],
   "source": [
    "N = int(input())\n",
    "A = N // 5\n",
    "B = N % 5\n",
    "temp = 0\n",
    "while True:\n",
    "    if B == 0:\n",
    "        break\n",
    "    else:\n",
    "        if B % 3 == 0:\n",
    "            temp = B // 3\n",
    "            break\n",
    "        else:\n",
    "            B += 5\n",
    "            A -= 1\n",
    "        if A < 0:\n",
    "            temp = 0\n",
    "            break\n",
    "print (A + temp)\n",
    "\n",
    "            "
   ]
  }
 ],
 "metadata": {
  "kernelspec": {
   "display_name": "Python 3 (ipykernel)",
   "language": "python",
   "name": "python3"
  },
  "language_info": {
   "codemirror_mode": {
    "name": "ipython",
    "version": 3
   },
   "file_extension": ".py",
   "mimetype": "text/x-python",
   "name": "python",
   "nbconvert_exporter": "python",
   "pygments_lexer": "ipython3",
   "version": "3.9.13"
  }
 },
 "nbformat": 4,
 "nbformat_minor": 5
}
