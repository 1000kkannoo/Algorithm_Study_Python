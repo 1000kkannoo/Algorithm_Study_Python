{
 "cells": [
  {
   "cell_type": "code",
   "execution_count": 3,
   "id": "ee75198d",
   "metadata": {
    "scrolled": true
   },
   "outputs": [
    {
     "name": "stdout",
     "output_type": "stream",
     "text": [
      "5 4\n",
      "1 2 1\n",
      "3 2 4\n",
      "2 2 2\n",
      "3 4 2\n",
      "1 2 2 2 0\n"
     ]
    }
   ],
   "source": [
    "limit, count = map(int,input().split())\n",
    "\n",
    "sumList = [0] * limit\n",
    "\n",
    "for i in range(count):\n",
    "    minCount, maxCount, ball = map(int,input().split())\n",
    "    for j in range(minCount - 1, maxCount):\n",
    "        sumList[j] = ball\n",
    "print(*sumList)"
   ]
  }
 ],
 "metadata": {
  "kernelspec": {
   "display_name": "Python 3 (ipykernel)",
   "language": "python",
   "name": "python3"
  },
  "language_info": {
   "codemirror_mode": {
    "name": "ipython",
    "version": 3
   },
   "file_extension": ".py",
   "mimetype": "text/x-python",
   "name": "python",
   "nbconvert_exporter": "python",
   "pygments_lexer": "ipython3",
   "version": "3.9.13"
  }
 },
 "nbformat": 4,
 "nbformat_minor": 5
}
