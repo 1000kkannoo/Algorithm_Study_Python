{
 "cells": [
  {
   "cell_type": "code",
   "execution_count": 4,
   "id": "b47e7b70",
   "metadata": {},
   "outputs": [
    {
     "name": "stdout",
     "output_type": "stream",
     "text": [
      "5 4\n",
      "1 2\n",
      "3 4\n",
      "1 4\n",
      "2 2\n",
      "3 4 1 2 5\n"
     ]
    }
   ],
   "source": [
    "boxCount, count = map(int,input().split())\n",
    "box = list(range(1,boxCount+1))\n",
    "\n",
    "for i in range(count):\n",
    "    a, b = map(int,input().split())\n",
    "    box[a-1:b] = reversed(box[a-1:b])\n",
    "print(*box)\n",
    "    "
   ]
  }
 ],
 "metadata": {
  "kernelspec": {
   "display_name": "Python 3 (ipykernel)",
   "language": "python",
   "name": "python3"
  },
  "language_info": {
   "codemirror_mode": {
    "name": "ipython",
    "version": 3
   },
   "file_extension": ".py",
   "mimetype": "text/x-python",
   "name": "python",
   "nbconvert_exporter": "python",
   "pygments_lexer": "ipython3",
   "version": "3.9.13"
  }
 },
 "nbformat": 4,
 "nbformat_minor": 5
}
