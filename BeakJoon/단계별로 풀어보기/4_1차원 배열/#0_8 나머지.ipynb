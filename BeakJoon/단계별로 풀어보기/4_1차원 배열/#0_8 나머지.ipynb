{
 "cells": [
  {
   "cell_type": "code",
   "execution_count": 9,
   "id": "69f18c32",
   "metadata": {},
   "outputs": [
    {
     "name": "stdout",
     "output_type": "stream",
     "text": [
      "42\n",
      "84\n",
      "252\n",
      "420\n",
      "840\n",
      "126\n",
      "42\n",
      "84\n",
      "420\n",
      "126\n",
      "1\n"
     ]
    }
   ],
   "source": [
    "numList = []\n",
    "sumList = []\n",
    "for i in range(10):\n",
    "    numList.append(int(input()) % 42)\n",
    "    \n",
    "for value in numList:\n",
    "    if value not in sumList:\n",
    "        sumList.append(value)\n",
    "print(len(sumList))\n",
    "        \n"
   ]
  }
 ],
 "metadata": {
  "kernelspec": {
   "display_name": "Python 3 (ipykernel)",
   "language": "python",
   "name": "python3"
  },
  "language_info": {
   "codemirror_mode": {
    "name": "ipython",
    "version": 3
   },
   "file_extension": ".py",
   "mimetype": "text/x-python",
   "name": "python",
   "nbconvert_exporter": "python",
   "pygments_lexer": "ipython3",
   "version": "3.9.13"
  }
 },
 "nbformat": 4,
 "nbformat_minor": 5
}
