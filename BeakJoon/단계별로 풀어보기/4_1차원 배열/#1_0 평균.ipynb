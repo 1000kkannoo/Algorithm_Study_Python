{
 "cells": [
  {
   "cell_type": "code",
   "execution_count": 19,
   "id": "612d7151",
   "metadata": {
    "scrolled": false
   },
   "outputs": [
    {
     "name": "stdout",
     "output_type": "stream",
     "text": [
      "4\n",
      "10 20 0 100\n",
      "32.5\n"
     ]
    }
   ],
   "source": [
    "count = int(input())\n",
    "scoreList = list(map(int, input().split()))\n",
    "realScore = 0\n",
    "\n",
    "for i in scoreList:\n",
    "    realScore += i\n",
    "\n",
    "fakeScore = (realScore / count) / max(scoreList) * 100\n",
    "print(fakeScore)"
   ]
  }
 ],
 "metadata": {
  "kernelspec": {
   "display_name": "Python 3 (ipykernel)",
   "language": "python",
   "name": "python3"
  },
  "language_info": {
   "codemirror_mode": {
    "name": "ipython",
    "version": 3
   },
   "file_extension": ".py",
   "mimetype": "text/x-python",
   "name": "python",
   "nbconvert_exporter": "python",
   "pygments_lexer": "ipython3",
   "version": "3.9.13"
  }
 },
 "nbformat": 4,
 "nbformat_minor": 5
}
