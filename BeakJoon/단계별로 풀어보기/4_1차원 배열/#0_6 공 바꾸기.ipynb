{
 "cells": [
  {
   "cell_type": "code",
   "execution_count": 3,
   "id": "52b96c08",
   "metadata": {},
   "outputs": [
    {
     "name": "stdout",
     "output_type": "stream",
     "text": [
      "5 4\n",
      "1 2\n",
      "3 4\n",
      "1 4\n",
      "2 2\n",
      "3 1 4 2 5\n"
     ]
    }
   ],
   "source": [
    "box, count = map(int,input().split())\n",
    "boxList = []\n",
    "for i in range(box):\n",
    "    boxList.append(i + 1)\n",
    "\n",
    "for i in range(count):\n",
    "    j,k = map(int,input().split())\n",
    "    temp = boxList[j - 1]\n",
    "    boxList[j - 1] = boxList[k - 1]\n",
    "    boxList[k - 1] = temp\n",
    "print(*boxList)"
   ]
  }
 ],
 "metadata": {
  "kernelspec": {
   "display_name": "Python 3 (ipykernel)",
   "language": "python",
   "name": "python3"
  },
  "language_info": {
   "codemirror_mode": {
    "name": "ipython",
    "version": 3
   },
   "file_extension": ".py",
   "mimetype": "text/x-python",
   "name": "python",
   "nbconvert_exporter": "python",
   "pygments_lexer": "ipython3",
   "version": "3.9.13"
  }
 },
 "nbformat": 4,
 "nbformat_minor": 5
}
