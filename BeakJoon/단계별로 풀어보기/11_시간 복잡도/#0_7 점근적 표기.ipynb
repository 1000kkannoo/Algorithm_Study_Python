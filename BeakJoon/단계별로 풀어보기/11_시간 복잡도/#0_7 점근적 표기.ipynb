{
 "cells": [
  {
   "cell_type": "code",
   "execution_count": 8,
   "id": "02c1d5d0",
   "metadata": {},
   "outputs": [
    {
     "name": "stdout",
     "output_type": "stream",
     "text": [
      "7 7\n",
      "8\n",
      "10\n",
      "1\n"
     ]
    }
   ],
   "source": [
    "A, B = map(int,input().split())\n",
    "C = int(input())\n",
    "D = int(input())\n",
    "\n",
    "value = A * D + B\n",
    "\n",
    "if C * D >= value and C >= A:\n",
    "    print(1)\n",
    "else:\n",
    "    print(0)"
   ]
  }
 ],
 "metadata": {
  "kernelspec": {
   "display_name": "Python 3 (ipykernel)",
   "language": "python",
   "name": "python3"
  },
  "language_info": {
   "codemirror_mode": {
    "name": "ipython",
    "version": 3
   },
   "file_extension": ".py",
   "mimetype": "text/x-python",
   "name": "python",
   "nbconvert_exporter": "python",
   "pygments_lexer": "ipython3",
   "version": "3.9.13"
  }
 },
 "nbformat": 4,
 "nbformat_minor": 5
}
