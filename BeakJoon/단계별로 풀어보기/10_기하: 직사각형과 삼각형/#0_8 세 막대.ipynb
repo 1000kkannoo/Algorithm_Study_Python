{
 "cells": [
  {
   "cell_type": "code",
   "execution_count": 6,
   "id": "d4551d66",
   "metadata": {},
   "outputs": [
    {
     "name": "stdout",
     "output_type": "stream",
     "text": [
      "41 64 16\n",
      "113\n"
     ]
    }
   ],
   "source": [
    "A, B, C = map(int,input().split())\n",
    "\n",
    "num_list = [A,B,C]\n",
    "sum_list = [A,B,C]\n",
    "\n",
    "sum_list.remove(max(sum_list))\n",
    "\n",
    "if max(num_list) >= sum(sum_list):\n",
    "    print(sum(sum_list) + sum(sum_list) - 1)\n",
    "else:\n",
    "    print(sum(num_list))"
   ]
  }
 ],
 "metadata": {
  "kernelspec": {
   "display_name": "Python 3 (ipykernel)",
   "language": "python",
   "name": "python3"
  },
  "language_info": {
   "codemirror_mode": {
    "name": "ipython",
    "version": 3
   },
   "file_extension": ".py",
   "mimetype": "text/x-python",
   "name": "python",
   "nbconvert_exporter": "python",
   "pygments_lexer": "ipython3",
   "version": "3.9.13"
  }
 },
 "nbformat": 4,
 "nbformat_minor": 5
}
