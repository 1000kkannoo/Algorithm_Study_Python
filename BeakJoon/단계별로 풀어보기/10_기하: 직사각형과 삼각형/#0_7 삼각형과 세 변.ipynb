{
 "cells": [
  {
   "cell_type": "code",
   "execution_count": 14,
   "id": "2cd92bbe",
   "metadata": {
    "scrolled": false
   },
   "outputs": [
    {
     "name": "stdout",
     "output_type": "stream",
     "text": [
      "7 7 7\n",
      "Equilateral\n",
      "6 5 4\n",
      "Scalene\n",
      "3 2 5\n",
      "Invalid\n",
      "6 2 6\n",
      "Isosceles\n",
      "0 0 0\n"
     ]
    }
   ],
   "source": [
    "while True:\n",
    "    num_list = []\n",
    "    sum_list = []\n",
    "    \n",
    "    A, B, C = map(int,input().split())\n",
    "    \n",
    "    if A == 0 and B == 0 and C == 0:\n",
    "        break\n",
    "    \n",
    "    num_list = [A,B,C]\n",
    "    sum_list = [A,B,C]\n",
    "    \n",
    "    sum_list.remove(max(sum_list))\n",
    "\n",
    "    if max(num_list) < sum(sum_list):\n",
    "        if num_list[0] == num_list[1] == num_list[2]:\n",
    "            print(\"Equilateral\")\n",
    "        elif num_list[0] == num_list[1] or num_list[0] == num_list[2] or num_list[1] == num_list[2]:\n",
    "            print(\"Isosceles\")\n",
    "        else:\n",
    "            print(\"Scalene\")\n",
    "    else:\n",
    "        print(\"Invalid\")"
   ]
  }
 ],
 "metadata": {
  "kernelspec": {
   "display_name": "Python 3 (ipykernel)",
   "language": "python",
   "name": "python3"
  },
  "language_info": {
   "codemirror_mode": {
    "name": "ipython",
    "version": 3
   },
   "file_extension": ".py",
   "mimetype": "text/x-python",
   "name": "python",
   "nbconvert_exporter": "python",
   "pygments_lexer": "ipython3",
   "version": "3.9.13"
  }
 },
 "nbformat": 4,
 "nbformat_minor": 5
}
