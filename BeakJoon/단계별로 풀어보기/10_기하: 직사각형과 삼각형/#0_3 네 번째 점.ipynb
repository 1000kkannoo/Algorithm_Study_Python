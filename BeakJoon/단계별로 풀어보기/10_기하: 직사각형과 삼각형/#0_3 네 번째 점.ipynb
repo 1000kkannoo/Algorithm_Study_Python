{
 "cells": [
  {
   "cell_type": "code",
   "execution_count": 4,
   "id": "eb1397c7",
   "metadata": {},
   "outputs": [
    {
     "name": "stdout",
     "output_type": "stream",
     "text": [
      "5 5\n",
      "5 7\n",
      "7 5\n",
      "7 7\n"
     ]
    }
   ],
   "source": [
    "x1, y1 = map(int,input().split())\n",
    "x2, y2 = map(int,input().split())\n",
    "x3, y3 = map(int,input().split())\n",
    "\n",
    "x_list = [x1,x2,x3]\n",
    "y_list = [y1,y2,y3]\n",
    "\n",
    "for value in set(x_list):\n",
    "    if x_list.count(value) == 1:\n",
    "        x = value\n",
    "        \n",
    "for value in set(y_list):\n",
    "    if y_list.count(value) == 1:\n",
    "        y = value\n",
    "\n",
    "print(x,y)"
   ]
  }
 ],
 "metadata": {
  "kernelspec": {
   "display_name": "Python 3 (ipykernel)",
   "language": "python",
   "name": "python3"
  },
  "language_info": {
   "codemirror_mode": {
    "name": "ipython",
    "version": 3
   },
   "file_extension": ".py",
   "mimetype": "text/x-python",
   "name": "python",
   "nbconvert_exporter": "python",
   "pygments_lexer": "ipython3",
   "version": "3.9.13"
  }
 },
 "nbformat": 4,
 "nbformat_minor": 5
}
