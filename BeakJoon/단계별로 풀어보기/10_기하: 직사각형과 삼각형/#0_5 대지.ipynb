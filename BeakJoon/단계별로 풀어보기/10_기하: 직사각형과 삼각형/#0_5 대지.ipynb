{
 "cells": [
  {
   "cell_type": "code",
   "execution_count": 6,
   "id": "121623ad",
   "metadata": {},
   "outputs": [
    {
     "name": "stdout",
     "output_type": "stream",
     "text": [
      "4\n",
      "2 1\n",
      "3 2\n",
      "5 2\n",
      "3 4\n",
      "9\n"
     ]
    }
   ],
   "source": [
    "N = int(input())\n",
    "x_list = []\n",
    "y_list = []\n",
    "for _ in range(N):\n",
    "    x, y = map(int,input().split())\n",
    "    x_list.append(x)\n",
    "    y_list.append(y)\n",
    "\n",
    "print((max(x_list) - min(x_list)) * (max(y_list) - min(y_list)))"
   ]
  }
 ],
 "metadata": {
  "kernelspec": {
   "display_name": "Python 3 (ipykernel)",
   "language": "python",
   "name": "python3"
  },
  "language_info": {
   "codemirror_mode": {
    "name": "ipython",
    "version": 3
   },
   "file_extension": ".py",
   "mimetype": "text/x-python",
   "name": "python",
   "nbconvert_exporter": "python",
   "pygments_lexer": "ipython3",
   "version": "3.9.13"
  }
 },
 "nbformat": 4,
 "nbformat_minor": 5
}
