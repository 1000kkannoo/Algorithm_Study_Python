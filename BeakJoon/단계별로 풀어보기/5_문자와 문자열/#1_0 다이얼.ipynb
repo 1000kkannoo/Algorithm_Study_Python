{
 "cells": [
  {
   "cell_type": "code",
   "execution_count": 15,
   "id": "5c6740c2",
   "metadata": {},
   "outputs": [
    {
     "name": "stdout",
     "output_type": "stream",
     "text": [
      "WA\n",
      "13\n"
     ]
    }
   ],
   "source": [
    "callList = [\"ABC\",\"DEF\",\"GHI\",\"JKL\",\"MNO\",\"PQRS\",\"TUV\",\"WXYZ\"]\n",
    "s = input().strip()\n",
    "\n",
    "value = 0\n",
    "for i in s:\n",
    "    for j in callList:\n",
    "        if i in j:\n",
    "            value += callList.index(j) + 3\n",
    "print(value)\n",
    "\n",
    "    "
   ]
  }
 ],
 "metadata": {
  "kernelspec": {
   "display_name": "Python 3 (ipykernel)",
   "language": "python",
   "name": "python3"
  },
  "language_info": {
   "codemirror_mode": {
    "name": "ipython",
    "version": 3
   },
   "file_extension": ".py",
   "mimetype": "text/x-python",
   "name": "python",
   "nbconvert_exporter": "python",
   "pygments_lexer": "ipython3",
   "version": "3.9.13"
  }
 },
 "nbformat": 4,
 "nbformat_minor": 5
}
