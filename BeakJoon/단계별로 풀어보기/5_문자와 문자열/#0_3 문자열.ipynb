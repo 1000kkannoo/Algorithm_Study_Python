{
 "cells": [
  {
   "cell_type": "code",
   "execution_count": 5,
   "id": "4ed6e303",
   "metadata": {},
   "outputs": [
    {
     "name": "stdout",
     "output_type": "stream",
     "text": [
      "3\n",
      "abcde\n",
      "0\n",
      "swsz\n",
      "ae\n",
      "00\n",
      "sz\n"
     ]
    }
   ],
   "source": [
    "count = int(input())\n",
    "strList = []\n",
    "for i in range(count):\n",
    "    string = input()\n",
    "    string = string[0] + string[-1]\n",
    "    strList.append(string)\n",
    "print(*strList,sep=\"\\n\")"
   ]
  }
 ],
 "metadata": {
  "kernelspec": {
   "display_name": "Python 3 (ipykernel)",
   "language": "python",
   "name": "python3"
  },
  "language_info": {
   "codemirror_mode": {
    "name": "ipython",
    "version": 3
   },
   "file_extension": ".py",
   "mimetype": "text/x-python",
   "name": "python",
   "nbconvert_exporter": "python",
   "pygments_lexer": "ipython3",
   "version": "3.9.13"
  }
 },
 "nbformat": 4,
 "nbformat_minor": 5
}
