{
 "cells": [
  {
   "cell_type": "code",
   "execution_count": 51,
   "id": "a0b3d5eb",
   "metadata": {},
   "outputs": [
    {
     "name": "stdout",
     "output_type": "stream",
     "text": [
      "5\n",
      "2/2\n"
     ]
    }
   ],
   "source": [
    "cnt = ''\n",
    "num = int(input())\n",
    "line = 1\n",
    "\n",
    "while num > line:\n",
    "    num -= line\n",
    "    line += 1\n",
    "\n",
    "if line % 2 == 0:\n",
    "    a = num\n",
    "    b = line - num + 1\n",
    "elif line % 2 == 1:\n",
    "    a = line - num + 1\n",
    "    b = num\n",
    "\n",
    "print(f'{a}/{b}')\n",
    "            "
   ]
  },
  {
   "cell_type": "code",
   "execution_count": null,
   "id": "190d9239",
   "metadata": {},
   "outputs": [],
   "source": []
  }
 ],
 "metadata": {
  "kernelspec": {
   "display_name": "Python 3 (ipykernel)",
   "language": "python",
   "name": "python3"
  },
  "language_info": {
   "codemirror_mode": {
    "name": "ipython",
    "version": 3
   },
   "file_extension": ".py",
   "mimetype": "text/x-python",
   "name": "python",
   "nbconvert_exporter": "python",
   "pygments_lexer": "ipython3",
   "version": "3.9.13"
  }
 },
 "nbformat": 4,
 "nbformat_minor": 5
}
