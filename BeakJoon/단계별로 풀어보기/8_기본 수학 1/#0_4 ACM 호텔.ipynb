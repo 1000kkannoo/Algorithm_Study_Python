{
 "cells": [
  {
   "cell_type": "code",
   "execution_count": 48,
   "id": "66666d9a",
   "metadata": {},
   "outputs": [
    {
     "name": "stdout",
     "output_type": "stream",
     "text": [
      "1\n",
      "1 2 1\n",
      "101\n"
     ]
    }
   ],
   "source": [
    "import math\n",
    "\n",
    "count = int(input())\n",
    "\n",
    "for _ in range(count):\n",
    "    \n",
    "    h, w, n = map(int,input().split())\n",
    "    a = n - ((n // h) * h)\n",
    "    if(a == 0):\n",
    "        a = h\n",
    "    \n",
    "    b = math.ceil((n / h))\n",
    "    \n",
    "    if b < 10:\n",
    "        print(f'{a}0{b}')\n",
    "    else:\n",
    "        print(f'{a}{b}')"
   ]
  }
 ],
 "metadata": {
  "kernelspec": {
   "display_name": "Python 3 (ipykernel)",
   "language": "python",
   "name": "python3"
  },
  "language_info": {
   "codemirror_mode": {
    "name": "ipython",
    "version": 3
   },
   "file_extension": ".py",
   "mimetype": "text/x-python",
   "name": "python",
   "nbconvert_exporter": "python",
   "pygments_lexer": "ipython3",
   "version": "3.9.13"
  }
 },
 "nbformat": 4,
 "nbformat_minor": 5
}
