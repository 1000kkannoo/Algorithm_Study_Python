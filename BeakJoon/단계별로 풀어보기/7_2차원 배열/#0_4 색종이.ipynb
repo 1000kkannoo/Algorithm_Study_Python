{
 "cells": [
  {
   "cell_type": "code",
   "execution_count": 7,
   "id": "09551950",
   "metadata": {},
   "outputs": [
    {
     "name": "stdout",
     "output_type": "stream",
     "text": [
      "3\n",
      "3 7\n",
      "15 7\n",
      "5 2\n",
      "260\n"
     ]
    }
   ],
   "source": [
    "n = int(input())\n",
    "array = [[0] * 100 for _ in range(100)]\n",
    "\n",
    "for _ in range(n):\n",
    "    a, b = map(int,input().split())\n",
    "    for i in range(a, a + 10):\n",
    "        for j in range(b, b + 10):\n",
    "            array[i][j] = 1\n",
    "            \n",
    "count = 0\n",
    "\n",
    "for i in range(100):\n",
    "    count += array[i].count(1)\n",
    "\n",
    "print(count)"
   ]
  }
 ],
 "metadata": {
  "kernelspec": {
   "display_name": "Python 3 (ipykernel)",
   "language": "python",
   "name": "python3"
  },
  "language_info": {
   "codemirror_mode": {
    "name": "ipython",
    "version": 3
   },
   "file_extension": ".py",
   "mimetype": "text/x-python",
   "name": "python",
   "nbconvert_exporter": "python",
   "pygments_lexer": "ipython3",
   "version": "3.9.13"
  }
 },
 "nbformat": 4,
 "nbformat_minor": 5
}
