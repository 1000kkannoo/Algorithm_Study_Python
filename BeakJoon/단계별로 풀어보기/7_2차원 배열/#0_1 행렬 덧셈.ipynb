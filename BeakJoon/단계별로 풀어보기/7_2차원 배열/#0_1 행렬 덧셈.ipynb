{
 "cells": [
  {
   "cell_type": "code",
   "execution_count": 10,
   "id": "2c18ca22",
   "metadata": {},
   "outputs": [
    {
     "name": "stdout",
     "output_type": "stream",
     "text": [
      "3 3\n",
      "1 1 1\n",
      "2 2 2\n",
      "0 1 0\n",
      "3 3 3\n",
      "4 4 4\n",
      "5 5 100\n",
      "4 4 4\n",
      "6 6 6\n",
      "5 6 100\n"
     ]
    }
   ],
   "source": [
    "n, m = map(int,input().split())\n",
    "aList = []\n",
    "bList = []\n",
    "\n",
    "for _ in range(n):\n",
    "    numList = list(map(int,input().split()))\n",
    "    aList.append(numList)\n",
    "    \n",
    "for _ in range(n):\n",
    "    numList = list(map(int,input().split()))\n",
    "    bList.append(numList)\n",
    "\n",
    "sumList = []    \n",
    "\n",
    "for i in range(n):\n",
    "    tempList = []\n",
    "    for j in range(m):\n",
    "        tempList.append(aList[i][j] + bList[i][j])\n",
    "        \n",
    "    sumList.append(tempList)\n",
    "\n",
    "for i in range(n):\n",
    "    print(*sumList[i])\n"
   ]
  }
 ],
 "metadata": {
  "kernelspec": {
   "display_name": "Python 3 (ipykernel)",
   "language": "python",
   "name": "python3"
  },
  "language_info": {
   "codemirror_mode": {
    "name": "ipython",
    "version": 3
   },
   "file_extension": ".py",
   "mimetype": "text/x-python",
   "name": "python",
   "nbconvert_exporter": "python",
   "pygments_lexer": "ipython3",
   "version": "3.9.13"
  }
 },
 "nbformat": 4,
 "nbformat_minor": 5
}
