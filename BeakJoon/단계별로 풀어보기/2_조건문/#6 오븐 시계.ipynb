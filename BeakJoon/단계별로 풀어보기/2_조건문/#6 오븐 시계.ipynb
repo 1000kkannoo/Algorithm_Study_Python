{
 "cells": [
  {
   "cell_type": "code",
   "execution_count": 6,
   "id": "0c5841db",
   "metadata": {},
   "outputs": [
    {
     "name": "stdout",
     "output_type": "stream",
     "text": [
      "17 40\n",
      "80\n",
      "19 0\n"
     ]
    }
   ],
   "source": [
    "h,m = map(int,input().split())\n",
    "time = int(input())\n",
    "\n",
    "if(m + time >= 60):\n",
    "    sum = m + time\n",
    "    time = sum // 60\n",
    "    m = sum % 60\n",
    "    \n",
    "    h += time\n",
    "    \n",
    "    if(h >= 24):\n",
    "        h -= 24\n",
    "else:\n",
    "    m += time\n",
    "\n",
    "print(h,m)"
   ]
  }
 ],
 "metadata": {
  "kernelspec": {
   "display_name": "Python 3 (ipykernel)",
   "language": "python",
   "name": "python3"
  },
  "language_info": {
   "codemirror_mode": {
    "name": "ipython",
    "version": 3
   },
   "file_extension": ".py",
   "mimetype": "text/x-python",
   "name": "python",
   "nbconvert_exporter": "python",
   "pygments_lexer": "ipython3",
   "version": "3.9.13"
  }
 },
 "nbformat": 4,
 "nbformat_minor": 5
}
