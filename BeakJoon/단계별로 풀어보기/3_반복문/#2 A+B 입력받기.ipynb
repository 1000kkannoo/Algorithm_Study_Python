{
 "cells": [
  {
   "cell_type": "code",
   "execution_count": 11,
   "id": "87fbeb19",
   "metadata": {},
   "outputs": [
    {
     "name": "stdout",
     "output_type": "stream",
     "text": [
      "2\n",
      "1 1\n",
      "2 2\n",
      "2\n",
      "4\n"
     ]
    }
   ],
   "source": [
    "i = int(input())\n",
    "numList = []\n",
    "\n",
    "for j in range(i):\n",
    "    a,b = map(int,input().split())\n",
    "    numList.append(a + b)\n",
    "\n",
    "for k in range(len(numList)):\n",
    "    print(numList[k])"
   ]
  }
 ],
 "metadata": {
  "kernelspec": {
   "display_name": "Python 3 (ipykernel)",
   "language": "python",
   "name": "python3"
  },
  "language_info": {
   "codemirror_mode": {
    "name": "ipython",
    "version": 3
   },
   "file_extension": ".py",
   "mimetype": "text/x-python",
   "name": "python",
   "nbconvert_exporter": "python",
   "pygments_lexer": "ipython3",
   "version": "3.9.13"
  }
 },
 "nbformat": 4,
 "nbformat_minor": 5
}
